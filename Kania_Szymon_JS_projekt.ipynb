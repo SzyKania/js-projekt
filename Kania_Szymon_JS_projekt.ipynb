{
 "metadata": {
  "language_info": {
   "codemirror_mode": {
    "name": "ipython",
    "version": 3
   },
   "file_extension": ".py",
   "mimetype": "text/x-python",
   "name": "python",
   "nbconvert_exporter": "python",
   "pygments_lexer": "ipython3",
   "version": "3.9.5"
  },
  "orig_nbformat": 2,
  "kernelspec": {
   "name": "python395jvsc74a57bd0426a88e8c22ac7a09d2a8a65f9033577ed6d7cc6dd970d8b0438bb3eb2b8e694",
   "display_name": "Python 3.9.5 64-bit ('PythonSoftwareFoundation.Python.3.9_qbz5n2kfra8p0')"
  },
  "metadata": {
   "interpreter": {
    "hash": "426a88e8c22ac7a09d2a8a65f9033577ed6d7cc6dd970d8b0438bb3eb2b8e694"
   }
  }
 },
 "nbformat": 4,
 "nbformat_minor": 2,
 "cells": [
  {
   "source": [
    "Klasa Money i ParkingMeter"
   ],
   "cell_type": "markdown",
   "metadata": {}
  },
  {
   "cell_type": "code",
   "execution_count": 10,
   "metadata": {},
   "outputs": [],
   "source": [
    "from decimal import *\n",
    "from datetime import *\n",
    "import time\n",
    "\n",
    "class BadNominalException(Exception):\n",
    "    def __init__(self, value):\n",
    "        self.value = value\n",
    "    def __str__(self):\n",
    "        return repr(self.value) \n",
    "\n",
    "class Money():\n",
    "    \n",
    "    def __init__(self, val):\n",
    "        val = Decimal(float(val)).quantize(Decimal('.01'), rounding = ROUND_DOWN)\n",
    "        allowed = list(map(Decimal, ['0.01', '0.02', '0.05',\\\n",
    "        '0.1', '0.2', '0.5', '1', '2', '5', '10', '20', '50']))\n",
    "        if val in allowed:\n",
    "            self._val = val\n",
    "        else:\n",
    "            raise BadNominalException(val)\n",
    "        \n",
    "    def get_val(self):\n",
    "        return self._val\n",
    "    \n",
    "\n",
    "class ParkingMeter():\n",
    "    \n",
    "    def __init__(self):\n",
    "        self._moneycount = dict.fromkeys(list(map(Decimal, ['0.01', '0.02', '0.05',\\\n",
    "         '0.1', '0.2', '0.5', '1', '2', '5'])), 0)\n",
    "        self._moneysum = 0\n",
    "        self._parkingminutes = 0\n",
    "\n",
    "    def pay_coin(self, coin):\n",
    "        if not isinstance(coin, Money):\n",
    "            print(\"Przesłany obiekt nie jest instancją pieniądza\")\n",
    "            return\n",
    "        if coin.get_val() not in (10, 20, 50):\n",
    "            if self._moneycount[coin.get_val()] == 200:\n",
    "                print(\"Magazyn monet tego nominalu jest pelny\")\n",
    "                return\n",
    "            else:\n",
    "                self._moneycount[coin.get_val()] += 1\n",
    "        self._moneysum += coin.get_val()\n",
    "        self.calc_time()\n",
    "        print(\"Dodano\", coin.get_val(), \"kredytu\")\n",
    "    \n",
    "    def get_bal(self):\n",
    "        return self._moneysum\n",
    "\n",
    "    def add_car(self, plate):\n",
    "        if(plate.len() > 8 or plate.len() < 4):\n",
    "            print(\"Niepoprawny nr rejestracyjny\")\n",
    "            return\n",
    "        if not all(c.isdigit() or c.isupper() for c in plate):\n",
    "            print(\"Niepoprawny nr rejestracyjny\")\n",
    "            return\n",
    "\n",
    "    def calc_time(self):\n",
    "        temp = self.get_bal()\n",
    "        if temp <= 2.0:\n",
    "            _parkingminutes = temp * 30\n",
    "        elif temp <= 6.0:\n",
    "            temp -= 2\n",
    "            _parkingminutes = 60 + temp * 15\n",
    "        else:\n",
    "            temp -= 6\n",
    "            _parkingminutes = 120 + temp * 12\n",
    "\n",
    "    def get_time(self):\n",
    "        self._time = datetime.now().time()\n",
    "        return self._time"
   ]
  },
  {
   "source": [
    "Testowanie"
   ],
   "cell_type": "markdown",
   "metadata": {}
  },
  {
   "source": [
    "wrzucać pieniadz -> sprawdzić limit pieniążków ->\n",
    "policzyć nowy czas -> policzyć końcową datę -> (ewentualnie dalsze pieniążki) -> zatwierdź -> sprawdzić rejestrację -> finisz"
   ],
   "cell_type": "markdown",
   "metadata": {}
  },
  {
   "cell_type": "code",
   "execution_count": 8,
   "metadata": {},
   "outputs": [
    {
     "output_type": "stream",
     "name": "stdout",
     "text": [
      "22:43:59.421099\n",
      "Dodano 0.05 kredytu\n",
      "Dodano 5.00 kredytu\n",
      "Dodano 5.00 kredytu\n",
      "Dodano 5.00 kredytu\n",
      "Dodano 5.00 kredytu\n",
      "Dodano 10.00 kredytu\n",
      "Dodano 10.00 kredytu\n",
      "Dodano 10.00 kredytu\n",
      "Dodano 10.00 kredytu\n",
      "60.05\n",
      "22:44:00.444518\n"
     ]
    }
   ],
   "source": [
    "bankomat = ParkingMeter()\n",
    "print(bankomat.get_time())\n",
    "time.sleep(1)\n",
    "bankomat.pay_coin(Money(0.05))\n",
    "bankomat.pay_coin(Money(5))\n",
    "bankomat.pay_coin(Money(5))\n",
    "bankomat.pay_coin(Money(5))\n",
    "bankomat.pay_coin(Money(5))\n",
    "bankomat.pay_coin(Money(10))\n",
    "bankomat.pay_coin(Money(10))\n",
    "bankomat.pay_coin(Money(10))\n",
    "bankomat.pay_coin(Money(10))\n",
    "print(bankomat.get_bal())\n",
    "print(bankomat.get_time())"
   ]
  },
  {
   "cell_type": "code",
   "execution_count": 9,
   "metadata": {},
   "outputs": [
    {
     "output_type": "stream",
     "name": "stdout",
     "text": [
      "15.0\n"
     ]
    }
   ],
   "source": [
    "print(1/4*60)"
   ]
  },
  {
   "cell_type": "code",
   "execution_count": null,
   "metadata": {},
   "outputs": [],
   "source": []
  }
 ]
}
